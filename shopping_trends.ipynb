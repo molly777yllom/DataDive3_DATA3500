{
 "cells": [
  {
   "cell_type": "markdown",
   "metadata": {},
   "source": [
    "# Customer Shopping Trends\n",
    "Source: https://www.kaggle.com/datasets/iamsouravbanerjee/customer-shopping-trends-dataset?select=shopping_trends_updated.csv"
   ]
  },
  {
   "cell_type": "markdown",
   "metadata": {},
   "source": [
    "### possible scenario:\n",
    "- a major retailer has recently gathered a large amount of data about its customers' shopping trends. we have been hired as consultants to process this data, identify existing trends and match them to what they see in revenue, investigate shortcomings, and make recommendations for improvement.  \n",
    "\n",
    "### questions:  \n",
    "**me**  \n",
    "1. What are the most common items purchased by customers aged 18-25? + look at male and females  \n",
    "2. What is the average purchase amount for female customers in different age groups?  \n",
    "3. \n",
    "\n",
    "**Juan**  \n",
    "3. What is the preferred payment method for customers who have subscriptions?  \n",
    "4. Did customers who used discounts or promo codes give higher review ratings compared to those who didn't?  \n",
    "5. What items are popular during a specific season   \n",
    "\n",
    "**Zalen**  \n",
    "1.  "
   ]
  },
  {
   "cell_type": "markdown",
   "metadata": {},
   "source": [
    "## Data Acquisition\n",
    "preview of `shopping_trends_updated.csv`:"
   ]
  },
  {
   "cell_type": "code",
   "execution_count": 76,
   "metadata": {},
   "outputs": [
    {
     "data": {
      "text/html": [
       "<div>\n",
       "<style scoped>\n",
       "    .dataframe tbody tr th:only-of-type {\n",
       "        vertical-align: middle;\n",
       "    }\n",
       "\n",
       "    .dataframe tbody tr th {\n",
       "        vertical-align: top;\n",
       "    }\n",
       "\n",
       "    .dataframe thead th {\n",
       "        text-align: right;\n",
       "    }\n",
       "</style>\n",
       "<table border=\"1\" class=\"dataframe\">\n",
       "  <thead>\n",
       "    <tr style=\"text-align: right;\">\n",
       "      <th></th>\n",
       "      <th>Customer ID</th>\n",
       "      <th>Age</th>\n",
       "      <th>Gender</th>\n",
       "      <th>Item Purchased</th>\n",
       "      <th>Category</th>\n",
       "      <th>Purchase Amount (USD)</th>\n",
       "      <th>Location</th>\n",
       "      <th>Size</th>\n",
       "      <th>Color</th>\n",
       "      <th>Season</th>\n",
       "      <th>Review Rating</th>\n",
       "      <th>Subscription Status</th>\n",
       "      <th>Shipping Type</th>\n",
       "      <th>Discount Applied</th>\n",
       "      <th>Promo Code Used</th>\n",
       "      <th>Previous Purchases</th>\n",
       "      <th>Payment Method</th>\n",
       "      <th>Frequency of Purchases</th>\n",
       "    </tr>\n",
       "  </thead>\n",
       "  <tbody>\n",
       "    <tr>\n",
       "      <th>0</th>\n",
       "      <td>1</td>\n",
       "      <td>55</td>\n",
       "      <td>Male</td>\n",
       "      <td>Blouse</td>\n",
       "      <td>Clothing</td>\n",
       "      <td>53</td>\n",
       "      <td>Kentucky</td>\n",
       "      <td>L</td>\n",
       "      <td>Gray</td>\n",
       "      <td>Winter</td>\n",
       "      <td>3.1</td>\n",
       "      <td>Yes</td>\n",
       "      <td>Express</td>\n",
       "      <td>Yes</td>\n",
       "      <td>Yes</td>\n",
       "      <td>14</td>\n",
       "      <td>Venmo</td>\n",
       "      <td>Fortnightly</td>\n",
       "    </tr>\n",
       "    <tr>\n",
       "      <th>1</th>\n",
       "      <td>2</td>\n",
       "      <td>19</td>\n",
       "      <td>Male</td>\n",
       "      <td>Sweater</td>\n",
       "      <td>Clothing</td>\n",
       "      <td>64</td>\n",
       "      <td>Maine</td>\n",
       "      <td>L</td>\n",
       "      <td>Maroon</td>\n",
       "      <td>Winter</td>\n",
       "      <td>3.1</td>\n",
       "      <td>Yes</td>\n",
       "      <td>Express</td>\n",
       "      <td>Yes</td>\n",
       "      <td>Yes</td>\n",
       "      <td>2</td>\n",
       "      <td>Cash</td>\n",
       "      <td>Fortnightly</td>\n",
       "    </tr>\n",
       "    <tr>\n",
       "      <th>2</th>\n",
       "      <td>3</td>\n",
       "      <td>50</td>\n",
       "      <td>Male</td>\n",
       "      <td>Jeans</td>\n",
       "      <td>Clothing</td>\n",
       "      <td>73</td>\n",
       "      <td>Massachusetts</td>\n",
       "      <td>S</td>\n",
       "      <td>Maroon</td>\n",
       "      <td>Spring</td>\n",
       "      <td>3.1</td>\n",
       "      <td>Yes</td>\n",
       "      <td>Free Shipping</td>\n",
       "      <td>Yes</td>\n",
       "      <td>Yes</td>\n",
       "      <td>23</td>\n",
       "      <td>Credit Card</td>\n",
       "      <td>Weekly</td>\n",
       "    </tr>\n",
       "    <tr>\n",
       "      <th>3</th>\n",
       "      <td>4</td>\n",
       "      <td>21</td>\n",
       "      <td>Male</td>\n",
       "      <td>Sandals</td>\n",
       "      <td>Footwear</td>\n",
       "      <td>90</td>\n",
       "      <td>Rhode Island</td>\n",
       "      <td>M</td>\n",
       "      <td>Maroon</td>\n",
       "      <td>Spring</td>\n",
       "      <td>3.5</td>\n",
       "      <td>Yes</td>\n",
       "      <td>Next Day Air</td>\n",
       "      <td>Yes</td>\n",
       "      <td>Yes</td>\n",
       "      <td>49</td>\n",
       "      <td>PayPal</td>\n",
       "      <td>Weekly</td>\n",
       "    </tr>\n",
       "    <tr>\n",
       "      <th>4</th>\n",
       "      <td>5</td>\n",
       "      <td>45</td>\n",
       "      <td>Male</td>\n",
       "      <td>Blouse</td>\n",
       "      <td>Clothing</td>\n",
       "      <td>49</td>\n",
       "      <td>Oregon</td>\n",
       "      <td>M</td>\n",
       "      <td>Turquoise</td>\n",
       "      <td>Spring</td>\n",
       "      <td>2.7</td>\n",
       "      <td>Yes</td>\n",
       "      <td>Free Shipping</td>\n",
       "      <td>Yes</td>\n",
       "      <td>Yes</td>\n",
       "      <td>31</td>\n",
       "      <td>PayPal</td>\n",
       "      <td>Annually</td>\n",
       "    </tr>\n",
       "  </tbody>\n",
       "</table>\n",
       "</div>"
      ],
      "text/plain": [
       "   Customer ID  Age Gender Item Purchased  Category  Purchase Amount (USD)  \\\n",
       "0            1   55   Male         Blouse  Clothing                     53   \n",
       "1            2   19   Male        Sweater  Clothing                     64   \n",
       "2            3   50   Male          Jeans  Clothing                     73   \n",
       "3            4   21   Male        Sandals  Footwear                     90   \n",
       "4            5   45   Male         Blouse  Clothing                     49   \n",
       "\n",
       "        Location Size      Color  Season  Review Rating Subscription Status  \\\n",
       "0       Kentucky    L       Gray  Winter            3.1                 Yes   \n",
       "1          Maine    L     Maroon  Winter            3.1                 Yes   \n",
       "2  Massachusetts    S     Maroon  Spring            3.1                 Yes   \n",
       "3   Rhode Island    M     Maroon  Spring            3.5                 Yes   \n",
       "4         Oregon    M  Turquoise  Spring            2.7                 Yes   \n",
       "\n",
       "   Shipping Type Discount Applied Promo Code Used  Previous Purchases  \\\n",
       "0        Express              Yes             Yes                  14   \n",
       "1        Express              Yes             Yes                   2   \n",
       "2  Free Shipping              Yes             Yes                  23   \n",
       "3   Next Day Air              Yes             Yes                  49   \n",
       "4  Free Shipping              Yes             Yes                  31   \n",
       "\n",
       "  Payment Method Frequency of Purchases  \n",
       "0          Venmo            Fortnightly  \n",
       "1           Cash            Fortnightly  \n",
       "2    Credit Card                 Weekly  \n",
       "3         PayPal                 Weekly  \n",
       "4         PayPal               Annually  "
      ]
     },
     "execution_count": 76,
     "metadata": {},
     "output_type": "execute_result"
    }
   ],
   "source": [
    "import pandas as pd\n",
    "# create dataframe\n",
    "shopping = pd.read_csv(\"shopping_trends/shopping_trends_updated.csv\")\n",
    "# display a preview\n",
    "shopping.head()"
   ]
  },
  {
   "cell_type": "markdown",
   "metadata": {},
   "source": [
    "#### display the number of cols, rows"
   ]
  },
  {
   "cell_type": "code",
   "execution_count": 77,
   "metadata": {},
   "outputs": [
    {
     "name": "stdout",
     "output_type": "stream",
     "text": [
      "~~~~~~~~~~~~~~~~~~~~~~~~~~~~~~~~~~~~~~~~~~~~~~~~~~~~~~~~~~~~~~~~~~~~~~~~~~~~~~~~~~~~~~~~~~~~~~~~~~~~~~~~~~\n",
      "There are 18 columns and 3900 rows.\n",
      "~~~~~~~~~~~~~~~~~~~~~~~~~~~~~~~~~~~~~~~~~~~~~~~~~~~~~~~~~~~~~~~~~~~~~~~~~~~~~~~~~~~~~~~~~~~~~~~~~~~~~~~~~~\n",
      "\n"
     ]
    }
   ],
   "source": [
    "# print the shape\n",
    "print(\"~~~~~~~~~~~~~~~~~~~~~~~~~~~~~~~~~~~~~~~~~~~~~~~~~~~~~~~~~~~~~~~~~~~~~~~~~~~~~~~~~~~~~~~~~~~~~~~~~~~~~~~~~~\\nThere are \" + str(shopping.shape[1]) + \" columns and \" + str(shopping.shape[0]) + \" rows.\\n~~~~~~~~~~~~~~~~~~~~~~~~~~~~~~~~~~~~~~~~~~~~~~~~~~~~~~~~~~~~~~~~~~~~~~~~~~~~~~~~~~~~~~~~~~~~~~~~~~~~~~~~~~\\n\")"
   ]
  },
  {
   "cell_type": "markdown",
   "metadata": {},
   "source": [
    "#### check the data types:"
   ]
  },
  {
   "cell_type": "code",
   "execution_count": 78,
   "metadata": {},
   "outputs": [
    {
     "data": {
      "text/plain": [
       "Customer ID                 int64\n",
       "Age                         int64\n",
       "Gender                     object\n",
       "Item Purchased             object\n",
       "Category                   object\n",
       "Purchase Amount (USD)       int64\n",
       "Location                   object\n",
       "Size                       object\n",
       "Color                      object\n",
       "Season                     object\n",
       "Review Rating             float64\n",
       "Subscription Status        object\n",
       "Shipping Type              object\n",
       "Discount Applied           object\n",
       "Promo Code Used            object\n",
       "Previous Purchases          int64\n",
       "Payment Method             object\n",
       "Frequency of Purchases     object\n",
       "dtype: object"
      ]
     },
     "execution_count": 78,
     "metadata": {},
     "output_type": "execute_result"
    }
   ],
   "source": [
    "# prints variable data types\n",
    "shopping.dtypes"
   ]
  },
  {
   "cell_type": "markdown",
   "metadata": {},
   "source": [
    "#### find out how many unique values are in categorical cols (where possible):"
   ]
  },
  {
   "cell_type": "code",
   "execution_count": 79,
   "metadata": {},
   "outputs": [
    {
     "name": "stdout",
     "output_type": "stream",
     "text": [
      "There are 2 different genders in `Gender`.\n",
      "There are 25 different items purchased in `Item Purchased`.\n",
      "There are 4 different categories in `Category`.\n",
      "There are 50 different locations in `Location`.\n",
      "There are 4 different sizes in `Size`.\n",
      "There are 25 different colors in `Color`.\n",
      "There are 4 different seasons in `Season`.\n",
      "There are 2 different subscription statuses in `Subscription Status`.\n",
      "There are 6 different shipping types in `Shipping Type`.\n",
      "There are 2 different discounts applied in `Discount Applied`.\n",
      "There are 2 different promo codes used in `Promo Code Used`.\n",
      "There are 6 different payment methods in `Payment Method`.\n",
      "There are 7 different frequencies of purchases in `Frequency of Purchases`.\n"
     ]
    }
   ],
   "source": [
    "# display the number of uniques for each categorical column, where it makes sense\n",
    "print(\"There are \" + str(shopping['Gender'].nunique()) + \" different genders in `Gender`.\")\n",
    "print(\"There are \" + str(shopping['Item Purchased'].nunique()) + \" different items purchased in `Item Purchased`.\")\n",
    "print(\"There are \" + str(shopping['Category'].nunique()) + \" different categories in `Category`.\")\n",
    "print(\"There are \" + str(shopping['Location'].nunique()) + \" different locations in `Location`.\")\n",
    "print(\"There are \" + str(shopping['Size'].nunique()) + \" different sizes in `Size`.\")\n",
    "print(\"There are \" + str(shopping['Color'].nunique()) + \" different colors in `Color`.\")\n",
    "print(\"There are \" + str(shopping['Season'].nunique()) + \" different seasons in `Season`.\")\n",
    "print(\"There are \" + str(shopping['Subscription Status'].nunique()) + \" different subscription statuses in `Subscription Status`.\")\n",
    "print(\"There are \" + str(shopping['Shipping Type'].nunique()) + \" different shipping types in `Shipping Type`.\")\n",
    "print(\"There are \" + str(shopping['Discount Applied'].nunique()) + \" different discounts applied in `Discount Applied`.\")\n",
    "print(\"There are \" + str(shopping['Promo Code Used'].nunique()) + \" different promo codes used in `Promo Code Used`.\")\n",
    "print(\"There are \" + str(shopping['Payment Method'].nunique()) + \" different payment methods in `Payment Method`.\")\n",
    "print(\"There are \" + str(shopping['Frequency of Purchases'].nunique()) + \" different frequencies of purchases in `Frequency of Purchases`.\")"
   ]
  },
  {
   "cell_type": "markdown",
   "metadata": {},
   "source": [
    "#### find out what the unique values are (where possible):  "
   ]
  },
  {
   "cell_type": "code",
   "execution_count": 80,
   "metadata": {},
   "outputs": [
    {
     "name": "stdout",
     "output_type": "stream",
     "text": [
      "Unique values in `Gender`:\n",
      " ['Male' 'Female']\n",
      "\n",
      "Unique values in `Item Purchased`:\n",
      " ['Blouse' 'Sweater' 'Jeans' 'Sandals' 'Sneakers' 'Shirt' 'Shorts' 'Coat'\n",
      " 'Handbag' 'Shoes' 'Dress' 'Skirt' 'Sunglasses' 'Pants' 'Jacket' 'Hoodie'\n",
      " 'Jewelry' 'T-shirt' 'Scarf' 'Hat' 'Socks' 'Backpack' 'Belt' 'Boots'\n",
      " 'Gloves']\n",
      "\n",
      "Unique values in `Category`:\n",
      " ['Clothing' 'Footwear' 'Outerwear' 'Accessories']\n",
      "\n",
      "Unique values in `Location`:\n",
      " ['Kentucky' 'Maine' 'Massachusetts' 'Rhode Island' 'Oregon' 'Wyoming'\n",
      " 'Montana' 'Louisiana' 'West Virginia' 'Missouri' 'Arkansas' 'Hawaii'\n",
      " 'Delaware' 'New Hampshire' 'New York' 'Alabama' 'Mississippi'\n",
      " 'North Carolina' 'California' 'Oklahoma' 'Florida' 'Texas' 'Nevada'\n",
      " 'Kansas' 'Colorado' 'North Dakota' 'Illinois' 'Indiana' 'Arizona'\n",
      " 'Alaska' 'Tennessee' 'Ohio' 'New Jersey' 'Maryland' 'Vermont'\n",
      " 'New Mexico' 'South Carolina' 'Idaho' 'Pennsylvania' 'Connecticut' 'Utah'\n",
      " 'Virginia' 'Georgia' 'Nebraska' 'Iowa' 'South Dakota' 'Minnesota'\n",
      " 'Washington' 'Wisconsin' 'Michigan']\n",
      "\n",
      "Unique values in `Size`:\n",
      " ['L' 'S' 'M' 'XL']\n",
      "\n",
      "Unique values in `Color`:\n",
      " ['Gray' 'Maroon' 'Turquoise' 'White' 'Charcoal' 'Silver' 'Pink' 'Purple'\n",
      " 'Olive' 'Gold' 'Violet' 'Teal' 'Lavender' 'Black' 'Green' 'Peach' 'Red'\n",
      " 'Cyan' 'Brown' 'Beige' 'Orange' 'Indigo' 'Yellow' 'Magenta' 'Blue']\n",
      "\n",
      "Unique values in `Season`:\n",
      " ['Winter' 'Spring' 'Summer' 'Fall']\n",
      "\n",
      "Unique values in `Subscription Status`:\n",
      " ['Yes' 'No']\n",
      "\n",
      "Unique values in `Shipping Type`:\n",
      " ['Express' 'Free Shipping' 'Next Day Air' 'Standard' '2-Day Shipping'\n",
      " 'Store Pickup']\n",
      "\n",
      "Unique values in `Discount Applied`:\n",
      " ['Yes' 'No']\n",
      "\n",
      "Unique values in `Promo Code Used`:\n",
      " ['Yes' 'No']\n",
      "\n",
      "Unique values in `Payment Method`:\n",
      " ['Venmo' 'Cash' 'Credit Card' 'PayPal' 'Bank Transfer' 'Debit Card']\n",
      "\n",
      "Unique values in `Frequency of Purchases`:\n",
      " ['Fortnightly' 'Weekly' 'Annually' 'Quarterly' 'Bi-Weekly' 'Monthly'\n",
      " 'Every 3 Months']\n"
     ]
    }
   ],
   "source": [
    "# get the unique values where it makes sense\n",
    "print(\"Unique values in `Gender`:\\n\", shopping['Gender'].unique())\n",
    "print(\"\\nUnique values in `Item Purchased`:\\n\", shopping['Item Purchased'].unique())\n",
    "print(\"\\nUnique values in `Category`:\\n\", shopping['Category'].unique())\n",
    "print(\"\\nUnique values in `Location`:\\n\", shopping['Location'].unique())\n",
    "print(\"\\nUnique values in `Size`:\\n\", shopping['Size'].unique())\n",
    "print(\"\\nUnique values in `Color`:\\n\", shopping['Color'].unique())\n",
    "print(\"\\nUnique values in `Season`:\\n\", shopping['Season'].unique())\n",
    "print(\"\\nUnique values in `Subscription Status`:\\n\", shopping['Subscription Status'].unique())\n",
    "print(\"\\nUnique values in `Shipping Type`:\\n\", shopping['Shipping Type'].unique())\n",
    "print(\"\\nUnique values in `Discount Applied`:\\n\", shopping['Discount Applied'].unique())\n",
    "print(\"\\nUnique values in `Promo Code Used`:\\n\", shopping['Promo Code Used'].unique())\n",
    "print(\"\\nUnique values in `Payment Method`:\\n\", shopping['Payment Method'].unique())\n",
    "print(\"\\nUnique values in `Frequency of Purchases`:\\n\", shopping['Frequency of Purchases'].unique())"
   ]
  },
  {
   "cell_type": "markdown",
   "metadata": {},
   "source": [
    "#### check for missing values:  "
   ]
  },
  {
   "cell_type": "code",
   "execution_count": 81,
   "metadata": {},
   "outputs": [
    {
     "name": "stdout",
     "output_type": "stream",
     "text": [
      "There are no missing values.\n"
     ]
    }
   ],
   "source": [
    "# check for missing values\n",
    "missing_values = shopping.isnull().sum()\n",
    "\n",
    "# calculate missing value counts for those columns where missing values are greater than zero\n",
    "missing_values_df = pd.DataFrame(missing_values[missing_values > 0], columns=['Count Missing'])\n",
    "\n",
    "# adjust the calculation for missing_pct\n",
    "missing_pct = ((missing_values[missing_values > 0] / shopping.shape[0] * 100).round(3))\n",
    "\n",
    "# add missing count and percent to table\n",
    "missing_values_df[\"% Missing\"] = missing_pct\n",
    "\n",
    "# check if there are no missing values, and print a message if that's the case\n",
    "if missing_values_df.empty:\n",
    "    print(\"There are no missing values.\")\n",
    "else:\n",
    "    # display the table if there are missing values\n",
    "    display(missing_values_df)"
   ]
  },
  {
   "cell_type": "markdown",
   "metadata": {},
   "source": [
    "#### check for duplicates:   "
   ]
  },
  {
   "cell_type": "code",
   "execution_count": 82,
   "metadata": {},
   "outputs": [
    {
     "name": "stdout",
     "output_type": "stream",
     "text": [
      "There are no duplicates.\n"
     ]
    }
   ],
   "source": [
    "# Check for duplicate rows\n",
    "duplicate_rows = shopping.duplicated().sum()\n",
    "\n",
    "# Get a boolean series indicating which rows are duplicates (including the original rows)\n",
    "duplicate_mask_all = shopping.duplicated(keep=False)\n",
    "\n",
    "# Use this mask to filter and display both the original and duplicate rows\n",
    "duplicate_rows_all_df = shopping[duplicate_mask_all]\n",
    "duplicate_rows_all_df\n",
    "\n",
    "# check if there are no missing values, and print a message if that's the case\n",
    "if duplicate_rows_all_df.empty:\n",
    "    print(\"There are no duplicates.\")\n",
    "else:\n",
    "    # display the table if there are missing values\n",
    "    print(\"There are \" + str(duplicate_rows) + \" duplicate row(s).\\n\")\n",
    "    display(duplicate_rows_all_df)"
   ]
  },
  {
   "cell_type": "markdown",
   "metadata": {},
   "source": [
    "#### basic statistics for the numerical columns: \n",
    "- the youngest customer is 18; the highest is 70  \n",
    "- the lowest purchase amount is $20; the highest is $100  \n",
    "- "
   ]
  },
  {
   "cell_type": "code",
   "execution_count": 91,
   "metadata": {},
   "outputs": [
    {
     "data": {
      "text/html": [
       "<div>\n",
       "<style scoped>\n",
       "    .dataframe tbody tr th:only-of-type {\n",
       "        vertical-align: middle;\n",
       "    }\n",
       "\n",
       "    .dataframe tbody tr th {\n",
       "        vertical-align: top;\n",
       "    }\n",
       "\n",
       "    .dataframe thead th {\n",
       "        text-align: right;\n",
       "    }\n",
       "</style>\n",
       "<table border=\"1\" class=\"dataframe\">\n",
       "  <thead>\n",
       "    <tr style=\"text-align: right;\">\n",
       "      <th></th>\n",
       "      <th>Customer ID</th>\n",
       "      <th>Age</th>\n",
       "      <th>Purchase Amount (USD)</th>\n",
       "      <th>Review Rating</th>\n",
       "      <th>Previous Purchases</th>\n",
       "    </tr>\n",
       "  </thead>\n",
       "  <tbody>\n",
       "    <tr>\n",
       "      <th>count</th>\n",
       "      <td>3900.000000</td>\n",
       "      <td>3900.000000</td>\n",
       "      <td>3900.000000</td>\n",
       "      <td>3900.000000</td>\n",
       "      <td>3900.000000</td>\n",
       "    </tr>\n",
       "    <tr>\n",
       "      <th>mean</th>\n",
       "      <td>1950.500000</td>\n",
       "      <td>44.068462</td>\n",
       "      <td>59.764359</td>\n",
       "      <td>3.749949</td>\n",
       "      <td>25.351538</td>\n",
       "    </tr>\n",
       "    <tr>\n",
       "      <th>std</th>\n",
       "      <td>1125.977353</td>\n",
       "      <td>15.207589</td>\n",
       "      <td>23.685392</td>\n",
       "      <td>0.716223</td>\n",
       "      <td>14.447125</td>\n",
       "    </tr>\n",
       "    <tr>\n",
       "      <th>min</th>\n",
       "      <td>1.000000</td>\n",
       "      <td>18.000000</td>\n",
       "      <td>20.000000</td>\n",
       "      <td>2.500000</td>\n",
       "      <td>1.000000</td>\n",
       "    </tr>\n",
       "    <tr>\n",
       "      <th>25%</th>\n",
       "      <td>975.750000</td>\n",
       "      <td>31.000000</td>\n",
       "      <td>39.000000</td>\n",
       "      <td>3.100000</td>\n",
       "      <td>13.000000</td>\n",
       "    </tr>\n",
       "    <tr>\n",
       "      <th>50%</th>\n",
       "      <td>1950.500000</td>\n",
       "      <td>44.000000</td>\n",
       "      <td>60.000000</td>\n",
       "      <td>3.700000</td>\n",
       "      <td>25.000000</td>\n",
       "    </tr>\n",
       "    <tr>\n",
       "      <th>75%</th>\n",
       "      <td>2925.250000</td>\n",
       "      <td>57.000000</td>\n",
       "      <td>81.000000</td>\n",
       "      <td>4.400000</td>\n",
       "      <td>38.000000</td>\n",
       "    </tr>\n",
       "    <tr>\n",
       "      <th>max</th>\n",
       "      <td>3900.000000</td>\n",
       "      <td>70.000000</td>\n",
       "      <td>100.000000</td>\n",
       "      <td>5.000000</td>\n",
       "      <td>50.000000</td>\n",
       "    </tr>\n",
       "  </tbody>\n",
       "</table>\n",
       "</div>"
      ],
      "text/plain": [
       "       Customer ID          Age  Purchase Amount (USD)  Review Rating  \\\n",
       "count  3900.000000  3900.000000            3900.000000    3900.000000   \n",
       "mean   1950.500000    44.068462              59.764359       3.749949   \n",
       "std    1125.977353    15.207589              23.685392       0.716223   \n",
       "min       1.000000    18.000000              20.000000       2.500000   \n",
       "25%     975.750000    31.000000              39.000000       3.100000   \n",
       "50%    1950.500000    44.000000              60.000000       3.700000   \n",
       "75%    2925.250000    57.000000              81.000000       4.400000   \n",
       "max    3900.000000    70.000000             100.000000       5.000000   \n",
       "\n",
       "       Previous Purchases  \n",
       "count         3900.000000  \n",
       "mean            25.351538  \n",
       "std             14.447125  \n",
       "min              1.000000  \n",
       "25%             13.000000  \n",
       "50%             25.000000  \n",
       "75%             38.000000  \n",
       "max             50.000000  "
      ]
     },
     "execution_count": 91,
     "metadata": {},
     "output_type": "execute_result"
    }
   ],
   "source": [
    "# basic statistics for the numerical columns\n",
    "shopping.describe()"
   ]
  },
  {
   "cell_type": "markdown",
   "metadata": {},
   "source": [
    "## Exploratory data analysis\n",
    "recall questions, for reference:  \n",
    "1. What are the most common items purchased by customers aged 18-25? + look at male and females  \n",
    "2. What is the average purchase amount for female customers in different age groups?  \n",
    "3. \n"
   ]
  },
  {
   "cell_type": "markdown",
   "metadata": {},
   "source": [
    "#### variable creation: \n",
    "create bins (by every 5 years) from `Age`: "
   ]
  },
  {
   "cell_type": "code",
   "execution_count": 83,
   "metadata": {},
   "outputs": [
    {
     "data": {
      "text/plain": [
       "0    56-60\n",
       "1    18-25\n",
       "2    51-55\n",
       "3    18-25\n",
       "4    46-50\n",
       "Name: Age Range, dtype: category\n",
       "Categories (10, object): ['18-25' < '26-30' < '31-35' < '36-40' ... '51-55' < '56-60' < '61-65' < '66-70']"
      ]
     },
     "execution_count": 83,
     "metadata": {},
     "output_type": "execute_result"
    }
   ],
   "source": [
    "# cut age into bins\n",
    "bins = [17, 25, 30, 35, 40, 45, 50, 55, 60, 65, 70]  # bin upper boundaries (including 17 will capture 18)\n",
    "labels = ['18-25', '26-30', '31-35', '36-40', '41-45', '46-50', '51-55', '56-60', '61-65', '66-70']  # specify the categories\n",
    "\n",
    "# bin the data; right=False will make ages equalling the upper bounds of a category fall into the category below it\n",
    "shopping['Age Range'] = pd.cut(shopping['Age'], bins=bins, labels=labels, right=False)\n",
    "\n",
    "# print to make sure it worked \n",
    "shopping['Age Range'].head()"
   ]
  },
  {
   "cell_type": "markdown",
   "metadata": {},
   "source": [
    "create bins () for `Purchase Amount (USD)`:  "
   ]
  },
  {
   "cell_type": "markdown",
   "metadata": {},
   "source": [
    "create bins () for `Previous Purchase` amount:"
   ]
  },
  {
   "cell_type": "markdown",
   "metadata": {},
   "source": [
    "#### visualization\n",
    "**univariate:**  \n",
    "- countplots: distribution across age ranges (total number ✓, percent of total ✓)  \n",
    "- countplots: distribution across genders (total number, percent of total)  \n",
    "- countplots: distribution across product categories (total number ✓, percent of total ✓)   \n",
    "- countplots: distribution across items purchased (total number, percent of total) \n",
    "- countplots: distribution across different purchase amounts (total number, percent of total)  \n",
    "- countplots: distribution across different previous purchase amounts (total number, percent of total)  \n",
    "\n",
    "\n",
    "**bivariate:**\n",
    "- \n",
    "- "
   ]
  },
  {
   "cell_type": "code",
   "execution_count": 95,
   "metadata": {},
   "outputs": [
    {
     "data": {
      "image/png": "[encoded data removed]",
      "text/plain": [
       "<Figure size 800x400 with 1 Axes>"
      ]
     },
     "metadata": {},
     "output_type": "display_data"
    }
   ],
   "source": [
    "# plotting distribution of ages\n",
    "\n",
    "# import necessary libraries\n",
    "import matplotlib.pyplot as plt\n",
    "import seaborn as sns\n",
    "\n",
    "# set up plot and styles\n",
    "f, ax = plt.subplots(figsize=(8, 4))\n",
    "plt.subplots_adjust(hspace=0.3, wspace=0.5)\n",
    "sns.set_style('white')\n",
    "\n",
    "# establish the plot\n",
    "sns.countplot(x=\"Age Range\", data=shopping, color='cyan', ax=ax)\n",
    "\n",
    "# set overall plot title\n",
    "ax.set_title('Number of customers by age range', fontsize=14, weight='bold', style='italic', y=1)\n",
    "\n",
    "# set x label\n",
    "ax.set_xlabel('Age', weight='bold', style='italic', size=12)\n",
    "# set y label\n",
    "ax.set_ylabel('Customer Count', weight='bold', style='italic', size=12)\n",
    "\n",
    "# set background color\n",
    "ax.set_facecolor('slategray')\n",
    "\n",
    "# make x-axis tick labels bold\n",
    "for label in ax.get_xticklabels():\n",
    "    label.set_weight('bold')\n",
    "# make y-axis tick labels bold\n",
    "for label in ax.get_yticklabels():\n",
    "    label.set_weight('bold')\n",
    "\n",
    "# show the plot\n",
    "plt.show()"
   ]
  },
  {
   "cell_type": "code",
   "execution_count": 94,
   "metadata": {},
   "outputs": [
    {
     "data": {
      "image/png": "[encoded data removed]",
      "text/plain": [
       "<Figure size 800x400 with 1 Axes>"
      ]
     },
     "metadata": {},
     "output_type": "display_data"
    }
   ],
   "source": [
    "# plotting distribution of ages as percentages\n",
    "\n",
    "# import necessary library\n",
    "from matplotlib.ticker import FuncFormatter     # used to add percent sign to tick labels\n",
    "\n",
    "# define a custom formatter function\n",
    "def to_percent(y, position):\n",
    "    # use the built-in string formatting to ensure that the percentage is displayed correctly.\n",
    "    s = str(int(y))\n",
    "    return s + '%'\n",
    "\n",
    "# calculate the percentage of each age range category\n",
    "age_counts = shopping['Age Range'].value_counts(normalize=True) * 100\n",
    "\n",
    "# convert the series to DataFrame for plotting\n",
    "age_percentage = age_counts.reset_index()\n",
    "age_percentage.columns = ['Age Range', 'Percentage']\n",
    "\n",
    "# set up plot and styles\n",
    "f, ax = plt.subplots(figsize=(8, 4))\n",
    "plt.subplots_adjust(hspace=0.3, wspace=0.5)\n",
    "sns.set_style('white')\n",
    "\n",
    "# establish the plot\n",
    "sns.barplot(y=\"Age Range\", x=\"Percentage\", data=age_percentage, color='cyan', ax=ax)\n",
    "\n",
    "# set overall plot title\n",
    "ax.set_title('Number of customers by age, as percentage of total', fontsize=14, weight='bold', style='italic', y=1)\n",
    "\n",
    "# set y label\n",
    "ax.set_ylabel('Age Range', weight='bold', style='italic', size=12)\n",
    "# set x label\n",
    "ax.set_xlabel('Percentage of Customers', weight='bold', style='italic', size=12)\n",
    "\n",
    "# set background color\n",
    "ax.set_facecolor('slategray')\n",
    "\n",
    "# make x-axis tick labels bold\n",
    "for label in ax.get_xticklabels():\n",
    "    label.set_weight('bold')\n",
    "# make y-axis tick labels bold\n",
    "for label in ax.get_yticklabels():\n",
    "    label.set_weight('bold')\n",
    "\n",
    "formatter = FuncFormatter(to_percent)\n",
    "ax.xaxis.set_major_formatter(formatter)\n",
    "\n",
    "# show the plot\n",
    "plt.show()"
   ]
  },
  {
   "cell_type": "code",
   "execution_count": 93,
   "metadata": {},
   "outputs": [
    {
     "data": {
      "image/png": "[encoded data removed]",
      "text/plain": [
       "<Figure size 800x400 with 1 Axes>"
      ]
     },
     "metadata": {},
     "output_type": "display_data"
    }
   ],
   "source": [
    "# plotting distribution across categories\n",
    "\n",
    "# set up plot and styles\n",
    "f, ax = plt.subplots(figsize=(8, 4))\n",
    "plt.subplots_adjust(hspace=0.3, wspace=0.5)\n",
    "sns.set_style('white')\n",
    "\n",
    "# establish the plot\n",
    "sns.countplot(x=\"Category\", data=shopping, color='springgreen', ax=ax)\n",
    "\n",
    "# set overall plot title\n",
    "ax.set_title('Number of purchases by category', fontsize=14, weight='bold', style='italic', y=1)\n",
    "\n",
    "# set x label\n",
    "ax.set_xlabel('Category', weight='bold', style='italic', size=12)\n",
    "# set y label\n",
    "ax.set_ylabel('Purchase count', weight='bold', style='italic', size=12)\n",
    "\n",
    "# set background color\n",
    "ax.set_facecolor('slategray')\n",
    "\n",
    "# make x-axis tick labels bold\n",
    "for label in ax.get_xticklabels():\n",
    "    label.set_weight('bold')\n",
    "# make y-axis tick labels bold\n",
    "for label in ax.get_yticklabels():\n",
    "    label.set_weight('bold')\n",
    "\n",
    "# show the plot\n",
    "plt.show()"
   ]
  },
  {
   "cell_type": "code",
   "execution_count": 92,
   "metadata": {},
   "outputs": [
    {
     "data": {
      "image/png": "[encoded data removed]",
      "text/plain": [
       "<Figure size 800x400 with 1 Axes>"
      ]
     },
     "metadata": {},
     "output_type": "display_data"
    }
   ],
   "source": [
    "# plotting distribution across categories as a percentage\n",
    "\n",
    "# calculate the percentage of purchase count by each category\n",
    "category_counts = shopping['Category'].value_counts(normalize=True) * 100\n",
    "\n",
    "# convert the series to DataFrame for plotting\n",
    "category_percentage = category_counts.reset_index()\n",
    "category_percentage.columns = ['Category', 'Percentage']\n",
    "\n",
    "# set up plot and styles\n",
    "f, ax = plt.subplots(figsize=(8, 4))\n",
    "plt.subplots_adjust(hspace=0.3, wspace=0.5)\n",
    "sns.set_style('white')\n",
    "\n",
    "# establish the plot\n",
    "sns.barplot(y=\"Category\", x=\"Percentage\", data=category_percentage, color='springgreen', ax=ax)\n",
    "\n",
    "# set overall plot title\n",
    "ax.set_title('Number of purchases by category, as a percentage', fontsize=14, weight='bold', style='italic', y=1)\n",
    "\n",
    "# set y label\n",
    "ax.set_ylabel('Category', weight='bold', style='italic', size=12)\n",
    "# set x label\n",
    "ax.set_xlabel('Percentage of Purchases', weight='bold', style='italic', size=12)\n",
    "\n",
    "# set background color\n",
    "ax.set_facecolor('slategray')\n",
    "\n",
    "# make x-axis tick labels bold\n",
    "for label in ax.get_xticklabels():\n",
    "    label.set_weight('bold')\n",
    "# make y-axis tick labels bold\n",
    "for label in ax.get_yticklabels():\n",
    "    label.set_weight('bold')\n",
    "\n",
    "formatter = FuncFormatter(to_percent)\n",
    "ax.xaxis.set_major_formatter(formatter)\n",
    "\n",
    "# show the plot\n",
    "plt.show()"
   ]
  }
 ],
 "metadata": {
  "kernelspec": {
   "display_name": "base",
   "language": "python",
   "name": "python3"
  },
  "language_info": {
   "codemirror_mode": {
    "name": "ipython",
    "version": 3
   },
   "file_extension": ".py",
   "mimetype": "text/x-python",
   "name": "python",
   "nbconvert_exporter": "python",
   "pygments_lexer": "ipython3",
   "version": "3.11.4"
  }
 },
 "nbformat": 4,
 "nbformat_minor": 2
}
